{
  "cells": [
    {
      "cell_type": "markdown",
      "source": [
        "### **Desafio – Criação e Comparação de Algoritmos**\n",
        "\n",
        "1. Introdução da Atividade\n",
        "O objetivo desta atividade é desenvolver um programa que:\n",
        "•\tLeia o nome e três notas de dois alunos;\n",
        "•\tCalcule a média de cada aluno;\n",
        "•\tInforme se o aluno está APROVADO ou REPROVADO (nota mínima: 7,0);\n",
        "•\tExiba ao final o nome, média e resultado de cada aluno.\n",
        "O mesmo algoritmo foi implementado em Python e em Portugol (Portugol Webstudio), para posterior comparação.\n",
        "\n",
        "2. Fontes de Pesquisa\n",
        "•\tPortugol Webstudio - UNIVALI: https://portugol.dev\n",
        "•\tDocumentação oficial Python: https://docs.python.org/ptbr/3/tutorial/index.html\n",
        "•\tW3Schools Python Tutorial: https://www.w3schools.com/python/\n",
        "\n",
        "\n",
        "# 3. Código em Python (com comentários):"
      ],
      "metadata": {
        "id": "B-D2TxN57dES"
      }
    },
    {
      "cell_type": "code",
      "source": [
        "# Programa para calcular a média de dois alunos e verificar se estão aprovados ou reprovados\n",
        "\n",
        "# Função para calcular média e resultado\n",
        "def verificar_aprovacao(nome, n1, n2, n3):\n",
        "    media = (n1 + n2 + n3) / 3  # cálculo da média\n",
        "    if media >= 7.0:\n",
        "        resultado = \"APROVADO\"\n",
        "    else:\n",
        "        resultado = \"REPROVADO\"\n",
        "    # Retorna nome, média e resultado\n",
        "    return nome, media, resultado\n",
        "\n",
        "# Entrada de dados do primeiro aluno\n",
        "nome1 = input(\"Digite o nome do primeiro aluno: \")\n",
        "nota1_1 = float(input(\"Digite a 1ª nota: \"))\n",
        "nota1_2 = float(input(\"Digite a 2ª nota: \"))\n",
        "nota1_3 = float(input(\"Digite a 3ª nota: \"))\n",
        "\n",
        "# Entrada de dados do segundo aluno\n",
        "nome2 = input(\"\\nDigite o nome do segundo aluno: \")\n",
        "nota2_1 = float(input(\"Digite a 1ª nota: \"))\n",
        "nota2_2 = float(input(\"Digite a 2ª nota: \"))\n",
        "nota2_3 = float(input(\"Digite a 3ª nota: \"))\n",
        "\n",
        "# Processamento\n",
        "aluno1 = verificar_aprovacao(nome1, nota1_1, nota1_2, nota1_3)\n",
        "aluno2 = verificar_aprovacao(nome2, nota2_1, nota2_2, nota2_3)\n",
        "\n",
        "# Saída\n",
        "print(f\"\\n{aluno1[0]} - Média: {aluno1[1]:.2f} - {aluno1[2]}\")\n",
        "print(f\"{aluno2[0]} - Média: {aluno2[1]:.2f} - {aluno2[2]}\")\n"
      ],
      "metadata": {
        "id": "TgtZ-hHt6rTo"
      },
      "execution_count": null,
      "outputs": []
    },
    {
      "cell_type": "markdown",
      "source": [
        "# **4. Código em Portugol (com comentários):**"
      ],
      "metadata": {
        "id": "dWjMczBG74pY"
      }
    },
    {
      "cell_type": "code",
      "source": [
        "programa\n",
        "{\n",
        "    funcao real calcular_media(real n1, real n2, real n3)\n",
        "    {\n",
        "        retorne (n1 + n2 + n3) / 3\n",
        "    }\n",
        "\n",
        "    funcao inicio()\n",
        "    {\n",
        "        cadeia nome1, nome2\n",
        "        real nota1_1, nota1_2, nota1_3\n",
        "        real nota2_1, nota2_2, nota2_3\n",
        "        real media1, media2\n",
        "\n",
        "        // Entrada do primeiro aluno\n",
        "        escreva(\"Digite o nome do primeiro aluno: \")\n",
        "        leia(nome1)\n",
        "        escreva(\"Digite a 1ª nota: \")\n",
        "        leia(nota1_1)\n",
        "        escreva(\"Digite a 2ª nota: \")\n",
        "        leia(nota1_2)\n",
        "        escreva(\"Digite a 3ª nota: \")\n",
        "        leia(nota1_3)\n",
        "\n",
        "        // Entrada do segundo aluno\n",
        "        escreva(\"\\nDigite o nome do segundo aluno: \")\n",
        "        leia(nome2)\n",
        "        escreva(\"Digite a 1ª nota: \")\n",
        "        leia(nota2_1)\n",
        "        escreva(\"Digite a 2ª nota: \")\n",
        "        leia(nota2_2)\n",
        "        escreva(\"Digite a 3ª nota: \")\n",
        "        leia(nota2_3)\n",
        "\n",
        "        // Processamento\n",
        "        media1 = calcular_media(nota1_1, nota1_2, nota1_3)\n",
        "        media2 = calcular_media(nota2_1, nota2_2, nota2_3)\n",
        "\n",
        "        // Saída do primeiro aluno\n",
        "        se (media1 >= 7) {\n",
        "            escreva(nome1, \" - Média: \", media1, \" - APROVADO\\n\")\n",
        "        }\n",
        "        senao {\n",
        "            escreva(nome1, \" - Média: \", media1, \" - REPROVADO\\n\")\n",
        "        }\n",
        "\n",
        "        // Saída do segundo aluno\n",
        "        se (media2 >= 7) {\n",
        "            escreva(nome2, \" - Média: \", media2, \" - APROVADO\\n\")\n",
        "        }\n",
        "        senao {\n",
        "            escreva(nome2, \" - Média: \", media2, \" - REPROVADO\\n\")\n",
        "        }\n",
        "    }\n",
        "}\n",
        "\n"
      ],
      "metadata": {
        "id": "f1pT5Udr7_bJ"
      },
      "execution_count": null,
      "outputs": []
    },
    {
      "cell_type": "markdown",
      "source": [
        "# 5. **Comparação entre Python e Portugol**\n",
        " **Diferenças notadas**\n",
        "\n",
        "**•**\t**Sintaxe:**\n",
        "Python utiliza indentação obrigatória, enquanto Portugol usa chaves { } e palavras-chave (funcao inicio(), se, senao).\n",
        "\n",
        "**•\tEntrada e saída:**\n",
        "o\tPython → input() e print()\n",
        "o\tPortugol → leia() e escreva()\n",
        "\n",
        "**•\tDeclaração de variáveis:**\n",
        "o\tPython → não exige tipo explícito (dinâmico).\n",
        "o\tPortugol → exige tipos como cadeia, real, inteiro.\n",
        "\n",
        "**•\tFunções:**\n",
        " Python usa def, Portugol usa funcao.\n",
        "\n",
        " **Simplicidade**\n",
        "•\tPara iniciantes, Portugol parece mais intuitivo porque se assemelha ao português.\n",
        "•\tPorém, Python é mais poderoso, flexível e usado no mercado.\n",
        " Indentação\n",
        "•\tEm Python, a indentação é obrigatória e substitui { }.\n",
        "•\tEm Portugol, a indentação ajuda na leitura, mas a estrutura é delimitada por palavras-chave e chaves.\n",
        "\n",
        "**Vantagens e Desvantagens**\n",
        "\n",
        "**•\tPython**\n",
        " **Vantagens:** simples, poderoso, usado no mercado, muitas bibliotecas.\n",
        "**Desvantagens:** pode confundir iniciantes pela necessidade de respeitar a indentação.\n",
        "\n",
        "**•\tPortugol**\n",
        "**Vantagens:** excelente para aprendizado, próximo do português.\n",
        "**Desvantagens:** não é usado no mercado real, serve apenas como linguagem didática.\n",
        "\n",
        "**Comentários**\n",
        "\n",
        "**•Python →** # comentário\n",
        "•\t**Portugol** → // comentário\n",
        "\n",
        "# **6. Conclusão**\n",
        "A implementação em Python e Portugol mostrou como a mesma lógica pode ser expressa de formas diferentes.\n",
        "**•\tPython** se destaca pela simplicidade e aplicação prática.\n",
        "**•\tPortugol** facilita o aprendizado inicial, mas não é aplicável profissionalmente.\n",
        "•\tA experiência reforça que a lógica de programação é universal, mudando apenas a sintaxe."
      ],
      "metadata": {
        "id": "2no684qM8b4P"
      }
    },
    {
      "cell_type": "markdown",
      "source": [],
      "metadata": {
        "id": "LUfSB6DY6vDJ"
      }
    }
  ],
  "metadata": {
    "colab": {
      "provenance": []
    },
    "kernelspec": {
      "display_name": "Python 3",
      "name": "python3"
    }
  },
  "nbformat": 4,
  "nbformat_minor": 0
}