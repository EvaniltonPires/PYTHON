{
  "nbformat": 4,
  "nbformat_minor": 0,
  "metadata": {
    "colab": {
      "provenance": []
    },
    "kernelspec": {
      "name": "python3",
      "display_name": "Python 3"
    },
    "language_info": {
      "name": "python"
    }
  },
  "cells": [
    {
      "cell_type": "markdown",
      "source": [
        "**Parte 1: Definição das Informações**"
      ],
      "metadata": {
        "id": "ExYeUwnUmroc"
      }
    },
    {
      "cell_type": "code",
      "source": [
        "# Informações básicas do cliente\n",
        "# Parte 1: Entrada de dados\n",
        "nome_completo = input(\"Digite o nome completo: \")\n",
        "idade = int(input(\"Digite a idade: \"))\n",
        "altura = float(input(\"Digite a altura (em metros): \"))\n",
        "peso = float(input(\"Digite o peso (em kg): \"))\n",
        "cidade = input(\"Digite a cidade onde mora: \")\n",
        "profissao = input(\"Digite a profissão: \")\n",
        "salario_mensal = float(input(\"Digite o salário mensal (em R$): \"))\n",
        "\n",
        "# Entradas booleanas\n",
        "possui_cnh = input(\"Possui CNH? (s/n): \").strip().lower() == \"s\"\n",
        "possui_curso_superior = input(\"Possui curso superior? (s/n): \").strip().lower() == \"s\"\n",
        "e_casado = input(\"É casado? (s/n): \").strip().lower() == \"s\"\n",
        "\n",
        "# Parte 2: Processamento de dados\n",
        "imc = peso / (altura ** 2)\n",
        "idade_em_dias = idade * 365\n",
        "salario_anual = salario_mensal * 12\n",
        "quantidade_letras_nome = len(nome_completo.replace(\" \", \"\"))\n",
        "\n",
        "# Parte 3: Gerar relatório\n",
        "relatorio = f\"\"\"\n",
        "--- Relatório do Cliente: {nome_completo} ---\n",
        "Cidade: {cidade}\n",
        "Profissão: {profissao}\n",
        "Idade: {idade} anos\n",
        "Altura: {altura:.2f} m\n",
        "Peso: {peso} kg\n",
        "IMC: {imc:.2f}\n",
        "Idade em dias: {idade_em_dias} dias\n",
        "Salário mensal: R${salario_mensal:,.2f}\n",
        "Salário anual: R${salario_anual:,.2f}\n",
        "Quantidade de letras no nome: {quantidade_letras_nome}\n",
        "\n",
        "Situações identificadas:\n",
        "\"\"\"\n",
        "\n",
        "# Parte 4: Condições\n",
        "if imc > 25:\n",
        "    relatorio += \"- Atenção! Você está acima do peso recomendado.\\n\"\n",
        "\n",
        "if idade < 18 and possui_cnh:\n",
        "    relatorio += \"- Erro! CNH inválida para menores de idade.\\n\"\n",
        "\n",
        "if e_casado and idade > 30:\n",
        "    relatorio += \"- Verifique opções de planejamento financeiro.\\n\"\n",
        "\n",
        "if salario_mensal > 10000:\n",
        "    relatorio += \"- Parabéns! Você faz parte da faixa de alta renda.\\n\"\n",
        "\n",
        "if not possui_curso_superior and idade > 30:\n",
        "    relatorio += \"- Considere investir em qualificação profissional.\\n\"\n",
        "\n",
        "# Exibir no terminal\n",
        "print(relatorio)\n",
        "\n",
        "# Salvar em um arquivo\n",
        "with open(\"relatorio_cliente.txt\", \"w\", encoding=\"utf-8\") as arquivo:\n",
        "    arquivo.write(relatorio)\n",
        "\n",
        "print(\"Relatório salvo em 'relatorio_cliente.txt'.\")\n",
        "\n"
      ],
      "metadata": {
        "id": "im4RNT_lmvtp"
      },
      "execution_count": null,
      "outputs": []
    },
    {
      "cell_type": "markdown",
      "source": [
        "# **O que este código faz:**\n",
        "\n",
        "*   Recebe todos os dados via input()\n",
        "*   Converte as entradas para o tipo correto (números e booleanos)\n",
        "*   Processa as informações\n",
        "*  Apresenta as mensagens condicionais\n",
        "*   Salva tudo no arquivo relatorio_cliente.txt no mesmo diretório do script\n",
        "\n",
        "\n",
        "\n",
        "\n",
        "\n",
        "\n",
        "\n",
        "\n",
        "\n",
        "\n"
      ],
      "metadata": {
        "id": "oMD0a_4DodOp"
      }
    },
    {
      "cell_type": "markdown",
      "source": [],
      "metadata": {
        "id": "oMeBFxG3odNY"
      }
    }
  ]
}