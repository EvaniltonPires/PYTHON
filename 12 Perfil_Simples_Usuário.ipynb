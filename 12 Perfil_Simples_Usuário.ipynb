{
  "cells": [
    {
      "cell_type": "markdown",
      "metadata": {
        "id": "2fhs6GZ4qFMx"
      },
      "source": [
        "Desafio: Aplicando os Primeiros Conceitos em Python"
      ]
    },
    {
      "cell_type": "code",
      "execution_count": null,
      "metadata": {
        "id": "9y1TrQHlpM_j"
      },
      "outputs": [],
      "source": [
        "# --- Desafio: Criando um Perfil Simples de Usuário ---\n",
        "# Autor: Evanilton Souza Pires\n",
        "\n",
        "\n",
        "# --- Desafio: Criando um Perfil Simples de Usuário com Entrada de Dados ---\n",
        "# Autor: Seu Nome\n",
        "# Data: 23/08/2025\n",
        "\n",
        "# 1. Entrada de Dados pelo Usuário\n",
        "nome_completo = input(\"Digite seu nome completo: \")\n",
        "idade = int(input(\"Digite sua idade: \"))\n",
        "altura = float(input(\"Digite sua altura em metros (ex: 1.75): \"))\n",
        "peso = float(input(\"Digite seu peso em kg (ex: 68.5): \"))\n",
        "carteira = input(\"Você possui carteira de motorista? (sim/não): \")\n",
        "\n",
        "# Convertendo a resposta para booleano\n",
        "possui_carteira_motorista = carteira.strip().lower() == \"sim\"\n",
        "\n",
        "# 2. Manipulação dos Dados\n",
        "\n",
        "# Nome em maiúsculas\n",
        "nome_maiusculo = nome_completo.upper()\n",
        "\n",
        "# Nome em minúsculas\n",
        "nome_minusculo = nome_completo.lower()\n",
        "\n",
        "# Tamanho do nome (sem espaços)\n",
        "tamanho_nome = len(nome_completo.replace(\" \", \"\"))\n",
        "\n",
        "# IMC = peso / (altura * altura)\n",
        "imc = peso / (altura ** 2)\n",
        "\n",
        "# Verificação de maioridade\n",
        "eh_maior_idade = idade >= 18\n",
        "\n",
        "# 3. Análises e Exploração\n",
        "\n",
        "# Arredondar o IMC para duas casas decimais\n",
        "imc_arredondado = round(imc, 2)\n",
        "\n",
        "# Contar apenas letras no nome (ignorando espaços e símbolos)\n",
        "quantidade_letras = sum(1 for caractere in nome_completo if caractere.isalpha())\n",
        "\n",
        "# Verificar se o nome contém a letra \"a\" (case-insensitive)\n",
        "contem_letra_a = \"a\" in nome_completo.lower()\n",
        "\n",
        "# 4. Exibição dos Resultados\n",
        "print(\"\\n==== PERFIL DO USUÁRIO ====\")\n",
        "print(\"Nome completo:\", nome_completo)\n",
        "print(\"Idade:\", idade)\n",
        "print(\"Altura:\", altura, \"m\")\n",
        "print(\"Peso:\", peso, \"kg\")\n",
        "print(\"Possui carteira de motorista:\", possui_carteira_motorista)\n",
        "\n",
        "print(\"\\n=== Manipulação de Dados ===\")\n",
        "print(\"Nome em maiúsculas:\", nome_maiusculo)\n",
        "print(\"Nome em minúsculas:\", nome_minusculo)\n",
        "print(\"Tamanho do nome (sem espaços):\", tamanho_nome)\n",
        "print(\"Quantidade de letras no nome:\", quantidade_letras)\n",
        "print(\"IMC calculado:\", imc)\n",
        "print(\"IMC arredondado:\", imc_arredondado)\n",
        "print(\"É maior de idade:\", eh_maior_idade)\n",
        "print(\"Nome contém a letra 'a'?:\", contem_letra_a)\n"
      ]
    },
    {
      "cell_type": "markdown",
      "metadata": {
        "id": "Z0KccJti37ke"
      },
      "source": [
        "**O que foi aprendido:**\n",
        "- Como declarar variáveis de diferentes tipos (string, int, float, bool)\n",
        "- Uso de métodos de string: .upper(), .lower(), .replace()\n",
        "- Como calcular IMC e aplicar arredondamento com round()\n",
        "- Uso de operadores lógicos e comparações (>=, in)\n",
        "- Contagem de letras ignorando espaços com isalpha()\n",
        "- Importância de ler a documentação e testar soluções\n",
        "\n",
        "**Dificuldades:**\n",
        "- Aprender a verificar a letra \"a\" de forma case-insensitive\n",
        "- Contar somente letras e ignorar espaços ou outros caracteres\n",
        "\n"
      ]
    }
  ],
  "metadata": {
    "colab": {
      "provenance": []
    },
    "kernelspec": {
      "display_name": "Python 3",
      "name": "python3"
    }
  },
  "nbformat": 4,
  "nbformat_minor": 0
}
