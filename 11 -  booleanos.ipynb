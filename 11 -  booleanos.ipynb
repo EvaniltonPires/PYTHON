{
  "cells": [
    {
      "cell_type": "markdown",
      "metadata": {
        "id": "2fhs6GZ4qFMx"
      },
      "source": [
        "**exercicio_booleanos_Evanilton_Souza**\n",
        "\n",
        "Como comparamos se as *strings* (`usuario`, `usuario_cadastro`) e (`senha`,`senha_cadastro`) são iguais para conceder ou bloquear o acesso do usuário?\n",
        "**Resposta**\n",
        "Para comparar se os dados de login fornecidos por **um usuário** (**como usuario e senha)** são iguais aos dados armazenados no sistema **(usuario_cadastro e senha_cadastro)**, basta usar o operador de **igualdade (==).**"
      ]
    },
    {
      "cell_type": "code",
      "execution_count": null,
      "metadata": {
        "colab": {
          "base_uri": "https://localhost:8080/"
        },
        "id": "9y1TrQHlpM_j",
        "outputId": "401fe511-49d7-4b09-a6ad-bea4501f8db3"
      },
      "outputs": [
        {
          "name": "stdout",
          "output_type": "stream",
          "text": [
            "Digite o nome do usuário: \n",
            "evaniltonsouza@gmail.com\n",
            "Digite a senha: CristoVive2025#@\n",
            "Acesso concedido.\n"
          ]
        }
      ],
      "source": [
        "# Dados fornecidos pelo usuário no login\n",
        "import getpass\n",
        "\n",
        "\n",
        "usuario = 'evaniltonsouza@gmail.com'\n",
        "senha = 'CristoVive2025#@'\n",
        "\n",
        "# Dados armazenados no sistema (ex: banco de dados)\n",
        "usuario_cadastro = 'evaniltonsouza@gmail.com'\n",
        "senha_cadastro = 'CristoVive2025#@'\n",
        "\n",
        "# solicita dados do usuário\n",
        "usuario = input(\"Digite o nome do usuário: \\n\")\n",
        "senha = getpass.getpass(\"Digite a senha: \")  # Senha não aparece enquanto digita\n",
        "# Verificação de login\n",
        "if usuario == usuario_cadastro and senha == senha_cadastro:\n",
        "    print(\"Acesso concedido.\")\n",
        "else:\n",
        "    print(\"Acesso negado.\")"
      ]
    },
    {
      "cell_type": "markdown",
      "metadata": {
        "id": "Z0KccJti37ke"
      },
      "source": [
        "**Funcionalidade:**\n",
        "\n",
        "**usuario == usuario_cadastro** verifica se os nomes de usuário são exatamente iguais.\n",
        "\n",
        "**senha == senha_cadastro** verifica se as senhas coincidem.\n",
        "(*Ambos precisam ser verdadeiros* para que o acesso seja concedido.)\n",
        "\n",
        "**input()** é usado para receber entrada do usuário.\n"
      ]
    }
  ],
  "metadata": {
    "colab": {
      "provenance": []
    },
    "kernelspec": {
      "display_name": "Python 3",
      "name": "python3"
    }
  },
  "nbformat": 4,
  "nbformat_minor": 0
}
